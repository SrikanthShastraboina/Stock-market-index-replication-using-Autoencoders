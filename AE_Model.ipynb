{
  "nbformat": 4,
  "nbformat_minor": 0,
  "metadata": {
    "colab": {
      "name": "AE_Model.ipynb",
      "provenance": [],
      "collapsed_sections": []
    },
    "kernelspec": {
      "name": "python3",
      "display_name": "Python 3"
    },
    "language_info": {
      "name": "python"
    },
    "accelerator": "GPU"
  },
  "cells": [
    {
      "cell_type": "code",
      "execution_count": 12,
      "metadata": {
        "id": "PHQ8AeDkCcM4"
      },
      "outputs": [],
      "source": [
        "import pandas as pd\n",
        "import numpy as np\n",
        "from scipy import stats\n",
        "import matplotlib.pyplot as plt\n",
        "from sklearn.preprocessing import MinMaxScaler\n",
        "from tensorflow.keras.layers import Input, Dense\n",
        "from tensorflow.keras.models import Model, Sequential\n",
        "from tensorflow.keras import regularizers"
      ]
    },
    {
      "cell_type": "code",
      "source": [
        "df = pd.read_csv('/content/fbmklci30.csv')\n",
        "df = df.dropna()\n",
        "df"
      ],
      "metadata": {
        "colab": {
          "base_uri": "https://localhost:8080/",
          "height": 617
        },
        "id": "l40H4GnaCixY",
        "outputId": "df22ed67-1848-4fa6-b693-03c8ddaf9732"
      },
      "execution_count": 13,
      "outputs": [
        {
          "output_type": "execute_result",
          "data": {
            "text/html": [
              "<div>\n",
              "<style scoped>\n",
              "    .dataframe tbody tr th:only-of-type {\n",
              "        vertical-align: middle;\n",
              "    }\n",
              "\n",
              "    .dataframe tbody tr th {\n",
              "        vertical-align: top;\n",
              "    }\n",
              "\n",
              "    .dataframe thead th {\n",
              "        text-align: right;\n",
              "    }\n",
              "</style>\n",
              "<table border=\"1\" class=\"dataframe\">\n",
              "  <thead>\n",
              "    <tr style=\"text-align: right;\">\n",
              "      <th></th>\n",
              "      <th>Date</th>\n",
              "      <th>^KLSE;1=9</th>\n",
              "      <th>5183.KL</th>\n",
              "      <th>4707.KL</th>\n",
              "      <th>5225.KL</th>\n",
              "      <th>5347.KL</th>\n",
              "      <th>1082.KL</th>\n",
              "      <th>1155.KL</th>\n",
              "      <th>1295.KL</th>\n",
              "      <th>7277.KL</th>\n",
              "      <th>3816.KL</th>\n",
              "      <th>3034.KL</th>\n",
              "      <th>1961.KL</th>\n",
              "      <th>5285.KL</th>\n",
              "      <th>5296.KL</th>\n",
              "      <th>5819.KL</th>\n",
              "      <th>3182.KL</th>\n",
              "      <th>8869.KL</th>\n",
              "      <th>1066.KL</th>\n",
              "      <th>5681.KL</th>\n",
              "      <th>6947.KL</th>\n",
              "      <th>6888.KL</th>\n",
              "      <th>4715.KL</th>\n",
              "      <th>6033.KL</th>\n",
              "      <th>4197.KL</th>\n",
              "      <th>5168.KL</th>\n",
              "      <th>2445.KL</th>\n",
              "      <th>4863.KL</th>\n",
              "      <th>1023.KL</th>\n",
              "      <th>7113.KL</th>\n",
              "      <th>4065.KL</th>\n",
              "      <th>6012.KL</th>\n",
              "    </tr>\n",
              "  </thead>\n",
              "  <tbody>\n",
              "    <tr>\n",
              "      <th>2648</th>\n",
              "      <td>2020-10-26</td>\n",
              "      <td>1494.609985</td>\n",
              "      <td>5.710725</td>\n",
              "      <td>138.873596</td>\n",
              "      <td>5.061798</td>\n",
              "      <td>9.391359</td>\n",
              "      <td>13.963120</td>\n",
              "      <td>6.425791</td>\n",
              "      <td>2.992509</td>\n",
              "      <td>3.638396</td>\n",
              "      <td>6.428641</td>\n",
              "      <td>6.882393</td>\n",
              "      <td>4.268185</td>\n",
              "      <td>4.784060</td>\n",
              "      <td>1.731998</td>\n",
              "      <td>14.388203</td>\n",
              "      <td>2.950389</td>\n",
              "      <td>2.759269</td>\n",
              "      <td>4.095115</td>\n",
              "      <td>16.505829</td>\n",
              "      <td>3.715664</td>\n",
              "      <td>2.715770</td>\n",
              "      <td>1.955762</td>\n",
              "      <td>15.412571</td>\n",
              "      <td>2.368643</td>\n",
              "      <td>15.631191</td>\n",
              "      <td>21.935061</td>\n",
              "      <td>4.101107</td>\n",
              "      <td>2.942087</td>\n",
              "      <td>7.860103</td>\n",
              "      <td>18.834280</td>\n",
              "      <td>4.755188</td>\n",
              "    </tr>\n",
              "    <tr>\n",
              "      <th>2649</th>\n",
              "      <td>2020-10-27</td>\n",
              "      <td>1500.349976</td>\n",
              "      <td>5.663136</td>\n",
              "      <td>138.580200</td>\n",
              "      <td>5.111423</td>\n",
              "      <td>9.316002</td>\n",
              "      <td>14.289630</td>\n",
              "      <td>6.416715</td>\n",
              "      <td>2.996321</td>\n",
              "      <td>3.638396</td>\n",
              "      <td>6.400362</td>\n",
              "      <td>6.882393</td>\n",
              "      <td>4.297419</td>\n",
              "      <td>4.687801</td>\n",
              "      <td>1.722101</td>\n",
              "      <td>14.368994</td>\n",
              "      <td>2.940555</td>\n",
              "      <td>2.774184</td>\n",
              "      <td>4.066873</td>\n",
              "      <td>16.660089</td>\n",
              "      <td>3.744320</td>\n",
              "      <td>2.774384</td>\n",
              "      <td>1.975222</td>\n",
              "      <td>15.335986</td>\n",
              "      <td>2.349067</td>\n",
              "      <td>16.161663</td>\n",
              "      <td>21.798576</td>\n",
              "      <td>4.120636</td>\n",
              "      <td>2.942087</td>\n",
              "      <td>8.049829</td>\n",
              "      <td>18.814560</td>\n",
              "      <td>4.784124</td>\n",
              "    </tr>\n",
              "    <tr>\n",
              "      <th>2650</th>\n",
              "      <td>2020-10-28</td>\n",
              "      <td>1495.199951</td>\n",
              "      <td>5.663136</td>\n",
              "      <td>137.504440</td>\n",
              "      <td>5.061798</td>\n",
              "      <td>9.212385</td>\n",
              "      <td>14.116772</td>\n",
              "      <td>6.416715</td>\n",
              "      <td>2.988696</td>\n",
              "      <td>3.628562</td>\n",
              "      <td>6.362658</td>\n",
              "      <td>6.882393</td>\n",
              "      <td>4.248695</td>\n",
              "      <td>4.668550</td>\n",
              "      <td>1.741896</td>\n",
              "      <td>14.368994</td>\n",
              "      <td>2.930720</td>\n",
              "      <td>2.789099</td>\n",
              "      <td>4.057458</td>\n",
              "      <td>16.679367</td>\n",
              "      <td>3.725216</td>\n",
              "      <td>2.969764</td>\n",
              "      <td>1.965492</td>\n",
              "      <td>15.297694</td>\n",
              "      <td>2.368643</td>\n",
              "      <td>15.931790</td>\n",
              "      <td>21.837572</td>\n",
              "      <td>4.101107</td>\n",
              "      <td>2.903375</td>\n",
              "      <td>7.932379</td>\n",
              "      <td>18.932890</td>\n",
              "      <td>4.745543</td>\n",
              "    </tr>\n",
              "    <tr>\n",
              "      <th>2651</th>\n",
              "      <td>2020-10-30</td>\n",
              "      <td>1466.890015</td>\n",
              "      <td>5.567957</td>\n",
              "      <td>136.330826</td>\n",
              "      <td>4.932771</td>\n",
              "      <td>8.986316</td>\n",
              "      <td>13.540578</td>\n",
              "      <td>6.353183</td>\n",
              "      <td>2.874333</td>\n",
              "      <td>3.638396</td>\n",
              "      <td>6.211839</td>\n",
              "      <td>6.882393</td>\n",
              "      <td>4.190228</td>\n",
              "      <td>4.658924</td>\n",
              "      <td>1.731998</td>\n",
              "      <td>14.215314</td>\n",
              "      <td>2.911051</td>\n",
              "      <td>2.729438</td>\n",
              "      <td>3.982146</td>\n",
              "      <td>16.621523</td>\n",
              "      <td>3.601042</td>\n",
              "      <td>2.862305</td>\n",
              "      <td>1.946032</td>\n",
              "      <td>15.067942</td>\n",
              "      <td>2.358855</td>\n",
              "      <td>15.914108</td>\n",
              "      <td>20.687199</td>\n",
              "      <td>4.091342</td>\n",
              "      <td>2.854985</td>\n",
              "      <td>7.742652</td>\n",
              "      <td>18.538452</td>\n",
              "      <td>4.629798</td>\n",
              "    </tr>\n",
              "    <tr>\n",
              "      <th>2652</th>\n",
              "      <td>2020-11-02</td>\n",
              "      <td>1466.459961</td>\n",
              "      <td>5.672654</td>\n",
              "      <td>136.722031</td>\n",
              "      <td>5.022097</td>\n",
              "      <td>9.042833</td>\n",
              "      <td>13.463752</td>\n",
              "      <td>6.362259</td>\n",
              "      <td>2.843836</td>\n",
              "      <td>3.540061</td>\n",
              "      <td>6.145855</td>\n",
              "      <td>6.854226</td>\n",
              "      <td>4.229206</td>\n",
              "      <td>4.697428</td>\n",
              "      <td>1.692410</td>\n",
              "      <td>14.196105</td>\n",
              "      <td>2.930720</td>\n",
              "      <td>2.764240</td>\n",
              "      <td>4.076286</td>\n",
              "      <td>16.486547</td>\n",
              "      <td>3.658353</td>\n",
              "      <td>2.930688</td>\n",
              "      <td>1.946032</td>\n",
              "      <td>15.125381</td>\n",
              "      <td>2.427369</td>\n",
              "      <td>15.772651</td>\n",
              "      <td>21.252638</td>\n",
              "      <td>4.091342</td>\n",
              "      <td>2.806596</td>\n",
              "      <td>7.580030</td>\n",
              "      <td>18.242628</td>\n",
              "      <td>4.668380</td>\n",
              "    </tr>\n",
              "    <tr>\n",
              "      <th>...</th>\n",
              "      <td>...</td>\n",
              "      <td>...</td>\n",
              "      <td>...</td>\n",
              "      <td>...</td>\n",
              "      <td>...</td>\n",
              "      <td>...</td>\n",
              "      <td>...</td>\n",
              "      <td>...</td>\n",
              "      <td>...</td>\n",
              "      <td>...</td>\n",
              "      <td>...</td>\n",
              "      <td>...</td>\n",
              "      <td>...</td>\n",
              "      <td>...</td>\n",
              "      <td>...</td>\n",
              "      <td>...</td>\n",
              "      <td>...</td>\n",
              "      <td>...</td>\n",
              "      <td>...</td>\n",
              "      <td>...</td>\n",
              "      <td>...</td>\n",
              "      <td>...</td>\n",
              "      <td>...</td>\n",
              "      <td>...</td>\n",
              "      <td>...</td>\n",
              "      <td>...</td>\n",
              "      <td>...</td>\n",
              "      <td>...</td>\n",
              "      <td>...</td>\n",
              "      <td>...</td>\n",
              "      <td>...</td>\n",
              "      <td>...</td>\n",
              "    </tr>\n",
              "    <tr>\n",
              "      <th>2913</th>\n",
              "      <td>2021-11-24</td>\n",
              "      <td>1522.270020</td>\n",
              "      <td>8.240832</td>\n",
              "      <td>133.500000</td>\n",
              "      <td>6.690000</td>\n",
              "      <td>9.440000</td>\n",
              "      <td>17.280001</td>\n",
              "      <td>8.120000</td>\n",
              "      <td>4.070000</td>\n",
              "      <td>2.620406</td>\n",
              "      <td>6.747667</td>\n",
              "      <td>7.404808</td>\n",
              "      <td>3.770000</td>\n",
              "      <td>3.880000</td>\n",
              "      <td>3.563407</td>\n",
              "      <td>18.280001</td>\n",
              "      <td>4.920000</td>\n",
              "      <td>5.650000</td>\n",
              "      <td>5.310000</td>\n",
              "      <td>19.797979</td>\n",
              "      <td>4.180000</td>\n",
              "      <td>3.970000</td>\n",
              "      <td>3.050000</td>\n",
              "      <td>16.085369</td>\n",
              "      <td>2.210000</td>\n",
              "      <td>5.150000</td>\n",
              "      <td>20.799999</td>\n",
              "      <td>5.590000</td>\n",
              "      <td>5.190000</td>\n",
              "      <td>2.270000</td>\n",
              "      <td>17.320000</td>\n",
              "      <td>4.548555</td>\n",
              "    </tr>\n",
              "    <tr>\n",
              "      <th>2914</th>\n",
              "      <td>2021-11-25</td>\n",
              "      <td>1517.599976</td>\n",
              "      <td>8.339643</td>\n",
              "      <td>133.800003</td>\n",
              "      <td>6.670000</td>\n",
              "      <td>9.380000</td>\n",
              "      <td>17.299999</td>\n",
              "      <td>8.110000</td>\n",
              "      <td>4.020000</td>\n",
              "      <td>2.620406</td>\n",
              "      <td>6.698197</td>\n",
              "      <td>7.375769</td>\n",
              "      <td>3.780000</td>\n",
              "      <td>3.860000</td>\n",
              "      <td>3.553426</td>\n",
              "      <td>18.320000</td>\n",
              "      <td>4.940000</td>\n",
              "      <td>5.640000</td>\n",
              "      <td>5.330000</td>\n",
              "      <td>19.698990</td>\n",
              "      <td>4.180000</td>\n",
              "      <td>4.000000</td>\n",
              "      <td>3.010000</td>\n",
              "      <td>16.124939</td>\n",
              "      <td>2.210000</td>\n",
              "      <td>5.130000</td>\n",
              "      <td>20.900000</td>\n",
              "      <td>5.430000</td>\n",
              "      <td>5.170000</td>\n",
              "      <td>2.250000</td>\n",
              "      <td>17.260000</td>\n",
              "      <td>4.548555</td>\n",
              "    </tr>\n",
              "    <tr>\n",
              "      <th>2915</th>\n",
              "      <td>2021-11-26</td>\n",
              "      <td>1512.219971</td>\n",
              "      <td>8.329762</td>\n",
              "      <td>134.000000</td>\n",
              "      <td>6.560000</td>\n",
              "      <td>9.380000</td>\n",
              "      <td>17.299999</td>\n",
              "      <td>8.100000</td>\n",
              "      <td>4.000000</td>\n",
              "      <td>2.541000</td>\n",
              "      <td>6.549788</td>\n",
              "      <td>7.356411</td>\n",
              "      <td>3.750000</td>\n",
              "      <td>3.730000</td>\n",
              "      <td>3.513500</td>\n",
              "      <td>18.299999</td>\n",
              "      <td>4.720000</td>\n",
              "      <td>5.570000</td>\n",
              "      <td>5.260000</td>\n",
              "      <td>19.698990</td>\n",
              "      <td>4.150000</td>\n",
              "      <td>3.900000</td>\n",
              "      <td>2.930000</td>\n",
              "      <td>16.184296</td>\n",
              "      <td>2.230000</td>\n",
              "      <td>5.650000</td>\n",
              "      <td>20.559999</td>\n",
              "      <td>5.420000</td>\n",
              "      <td>5.100000</td>\n",
              "      <td>2.640000</td>\n",
              "      <td>17.020000</td>\n",
              "      <td>4.479187</td>\n",
              "    </tr>\n",
              "    <tr>\n",
              "      <th>2916</th>\n",
              "      <td>2021-11-29</td>\n",
              "      <td>1510.569946</td>\n",
              "      <td>8.112378</td>\n",
              "      <td>134.000000</td>\n",
              "      <td>6.600000</td>\n",
              "      <td>9.260000</td>\n",
              "      <td>17.240000</td>\n",
              "      <td>8.050000</td>\n",
              "      <td>3.960000</td>\n",
              "      <td>2.550926</td>\n",
              "      <td>6.579470</td>\n",
              "      <td>7.404808</td>\n",
              "      <td>3.640000</td>\n",
              "      <td>3.680000</td>\n",
              "      <td>3.500000</td>\n",
              "      <td>18.200001</td>\n",
              "      <td>4.580000</td>\n",
              "      <td>5.230000</td>\n",
              "      <td>5.260000</td>\n",
              "      <td>19.501011</td>\n",
              "      <td>4.130000</td>\n",
              "      <td>3.980000</td>\n",
              "      <td>2.860000</td>\n",
              "      <td>16.124939</td>\n",
              "      <td>2.200000</td>\n",
              "      <td>6.400000</td>\n",
              "      <td>20.139999</td>\n",
              "      <td>5.390000</td>\n",
              "      <td>5.110000</td>\n",
              "      <td>3.190000</td>\n",
              "      <td>17.000000</td>\n",
              "      <td>4.390000</td>\n",
              "    </tr>\n",
              "    <tr>\n",
              "      <th>2917</th>\n",
              "      <td>2021-11-30</td>\n",
              "      <td>1513.979980</td>\n",
              "      <td>8.398930</td>\n",
              "      <td>133.600006</td>\n",
              "      <td>6.580000</td>\n",
              "      <td>9.240000</td>\n",
              "      <td>17.200001</td>\n",
              "      <td>7.980000</td>\n",
              "      <td>3.940000</td>\n",
              "      <td>2.541000</td>\n",
              "      <td>6.579470</td>\n",
              "      <td>7.356411</td>\n",
              "      <td>3.680000</td>\n",
              "      <td>3.680000</td>\n",
              "      <td>3.530000</td>\n",
              "      <td>18.080000</td>\n",
              "      <td>4.400000</td>\n",
              "      <td>5.350000</td>\n",
              "      <td>5.280000</td>\n",
              "      <td>19.698990</td>\n",
              "      <td>4.170000</td>\n",
              "      <td>3.900000</td>\n",
              "      <td>2.770000</td>\n",
              "      <td>16.639355</td>\n",
              "      <td>2.190000</td>\n",
              "      <td>6.490000</td>\n",
              "      <td>21.040001</td>\n",
              "      <td>5.560000</td>\n",
              "      <td>5.180000</td>\n",
              "      <td>2.930000</td>\n",
              "      <td>17.820000</td>\n",
              "      <td>4.680000</td>\n",
              "    </tr>\n",
              "  </tbody>\n",
              "</table>\n",
              "<p>270 rows × 32 columns</p>\n",
              "</div>"
            ],
            "text/plain": [
              "            Date    ^KLSE;1=9   5183.KL  ...   7113.KL    4065.KL   6012.KL\n",
              "2648  2020-10-26  1494.609985  5.710725  ...  7.860103  18.834280  4.755188\n",
              "2649  2020-10-27  1500.349976  5.663136  ...  8.049829  18.814560  4.784124\n",
              "2650  2020-10-28  1495.199951  5.663136  ...  7.932379  18.932890  4.745543\n",
              "2651  2020-10-30  1466.890015  5.567957  ...  7.742652  18.538452  4.629798\n",
              "2652  2020-11-02  1466.459961  5.672654  ...  7.580030  18.242628  4.668380\n",
              "...          ...          ...       ...  ...       ...        ...       ...\n",
              "2913  2021-11-24  1522.270020  8.240832  ...  2.270000  17.320000  4.548555\n",
              "2914  2021-11-25  1517.599976  8.339643  ...  2.250000  17.260000  4.548555\n",
              "2915  2021-11-26  1512.219971  8.329762  ...  2.640000  17.020000  4.479187\n",
              "2916  2021-11-29  1510.569946  8.112378  ...  3.190000  17.000000  4.390000\n",
              "2917  2021-11-30  1513.979980  8.398930  ...  2.930000  17.820000  4.680000\n",
              "\n",
              "[270 rows x 32 columns]"
            ]
          },
          "metadata": {},
          "execution_count": 13
        }
      ]
    },
    {
      "cell_type": "code",
      "source": [
        "df.isna().sum()"
      ],
      "metadata": {
        "colab": {
          "base_uri": "https://localhost:8080/"
        },
        "id": "nj9qicHRPG5c",
        "outputId": "b8af5bfb-9d42-4ee6-b58d-33c1e48480c6"
      },
      "execution_count": 14,
      "outputs": [
        {
          "output_type": "execute_result",
          "data": {
            "text/plain": [
              "Date         0\n",
              "^KLSE;1=9    0\n",
              "5183.KL      0\n",
              "4707.KL      0\n",
              "5225.KL      0\n",
              "5347.KL      0\n",
              "1082.KL      0\n",
              "1155.KL      0\n",
              "1295.KL      0\n",
              "7277.KL      0\n",
              "3816.KL      0\n",
              "3034.KL      0\n",
              "1961.KL      0\n",
              "5285.KL      0\n",
              "5296.KL      0\n",
              "5819.KL      0\n",
              "3182.KL      0\n",
              "8869.KL      0\n",
              "1066.KL      0\n",
              "5681.KL      0\n",
              "6947.KL      0\n",
              "6888.KL      0\n",
              "4715.KL      0\n",
              "6033.KL      0\n",
              "4197.KL      0\n",
              "5168.KL      0\n",
              "2445.KL      0\n",
              "4863.KL      0\n",
              "1023.KL      0\n",
              "7113.KL      0\n",
              "4065.KL      0\n",
              "6012.KL      0\n",
              "dtype: int64"
            ]
          },
          "metadata": {},
          "execution_count": 14
        }
      ]
    },
    {
      "cell_type": "code",
      "source": [
        "stocks_data = df.iloc[ : , 2:]\n",
        "stocks_data.head()"
      ],
      "metadata": {
        "colab": {
          "base_uri": "https://localhost:8080/",
          "height": 226
        },
        "id": "1Bk4gI6jPd3w",
        "outputId": "edb70987-4fde-497d-ebf8-c3684bff6a2e"
      },
      "execution_count": 15,
      "outputs": [
        {
          "output_type": "execute_result",
          "data": {
            "text/html": [
              "<div>\n",
              "<style scoped>\n",
              "    .dataframe tbody tr th:only-of-type {\n",
              "        vertical-align: middle;\n",
              "    }\n",
              "\n",
              "    .dataframe tbody tr th {\n",
              "        vertical-align: top;\n",
              "    }\n",
              "\n",
              "    .dataframe thead th {\n",
              "        text-align: right;\n",
              "    }\n",
              "</style>\n",
              "<table border=\"1\" class=\"dataframe\">\n",
              "  <thead>\n",
              "    <tr style=\"text-align: right;\">\n",
              "      <th></th>\n",
              "      <th>5183.KL</th>\n",
              "      <th>4707.KL</th>\n",
              "      <th>5225.KL</th>\n",
              "      <th>5347.KL</th>\n",
              "      <th>1082.KL</th>\n",
              "      <th>1155.KL</th>\n",
              "      <th>1295.KL</th>\n",
              "      <th>7277.KL</th>\n",
              "      <th>3816.KL</th>\n",
              "      <th>3034.KL</th>\n",
              "      <th>1961.KL</th>\n",
              "      <th>5285.KL</th>\n",
              "      <th>5296.KL</th>\n",
              "      <th>5819.KL</th>\n",
              "      <th>3182.KL</th>\n",
              "      <th>8869.KL</th>\n",
              "      <th>1066.KL</th>\n",
              "      <th>5681.KL</th>\n",
              "      <th>6947.KL</th>\n",
              "      <th>6888.KL</th>\n",
              "      <th>4715.KL</th>\n",
              "      <th>6033.KL</th>\n",
              "      <th>4197.KL</th>\n",
              "      <th>5168.KL</th>\n",
              "      <th>2445.KL</th>\n",
              "      <th>4863.KL</th>\n",
              "      <th>1023.KL</th>\n",
              "      <th>7113.KL</th>\n",
              "      <th>4065.KL</th>\n",
              "      <th>6012.KL</th>\n",
              "    </tr>\n",
              "  </thead>\n",
              "  <tbody>\n",
              "    <tr>\n",
              "      <th>2648</th>\n",
              "      <td>5.710725</td>\n",
              "      <td>138.873596</td>\n",
              "      <td>5.061798</td>\n",
              "      <td>9.391359</td>\n",
              "      <td>13.963120</td>\n",
              "      <td>6.425791</td>\n",
              "      <td>2.992509</td>\n",
              "      <td>3.638396</td>\n",
              "      <td>6.428641</td>\n",
              "      <td>6.882393</td>\n",
              "      <td>4.268185</td>\n",
              "      <td>4.784060</td>\n",
              "      <td>1.731998</td>\n",
              "      <td>14.388203</td>\n",
              "      <td>2.950389</td>\n",
              "      <td>2.759269</td>\n",
              "      <td>4.095115</td>\n",
              "      <td>16.505829</td>\n",
              "      <td>3.715664</td>\n",
              "      <td>2.715770</td>\n",
              "      <td>1.955762</td>\n",
              "      <td>15.412571</td>\n",
              "      <td>2.368643</td>\n",
              "      <td>15.631191</td>\n",
              "      <td>21.935061</td>\n",
              "      <td>4.101107</td>\n",
              "      <td>2.942087</td>\n",
              "      <td>7.860103</td>\n",
              "      <td>18.834280</td>\n",
              "      <td>4.755188</td>\n",
              "    </tr>\n",
              "    <tr>\n",
              "      <th>2649</th>\n",
              "      <td>5.663136</td>\n",
              "      <td>138.580200</td>\n",
              "      <td>5.111423</td>\n",
              "      <td>9.316002</td>\n",
              "      <td>14.289630</td>\n",
              "      <td>6.416715</td>\n",
              "      <td>2.996321</td>\n",
              "      <td>3.638396</td>\n",
              "      <td>6.400362</td>\n",
              "      <td>6.882393</td>\n",
              "      <td>4.297419</td>\n",
              "      <td>4.687801</td>\n",
              "      <td>1.722101</td>\n",
              "      <td>14.368994</td>\n",
              "      <td>2.940555</td>\n",
              "      <td>2.774184</td>\n",
              "      <td>4.066873</td>\n",
              "      <td>16.660089</td>\n",
              "      <td>3.744320</td>\n",
              "      <td>2.774384</td>\n",
              "      <td>1.975222</td>\n",
              "      <td>15.335986</td>\n",
              "      <td>2.349067</td>\n",
              "      <td>16.161663</td>\n",
              "      <td>21.798576</td>\n",
              "      <td>4.120636</td>\n",
              "      <td>2.942087</td>\n",
              "      <td>8.049829</td>\n",
              "      <td>18.814560</td>\n",
              "      <td>4.784124</td>\n",
              "    </tr>\n",
              "    <tr>\n",
              "      <th>2650</th>\n",
              "      <td>5.663136</td>\n",
              "      <td>137.504440</td>\n",
              "      <td>5.061798</td>\n",
              "      <td>9.212385</td>\n",
              "      <td>14.116772</td>\n",
              "      <td>6.416715</td>\n",
              "      <td>2.988696</td>\n",
              "      <td>3.628562</td>\n",
              "      <td>6.362658</td>\n",
              "      <td>6.882393</td>\n",
              "      <td>4.248695</td>\n",
              "      <td>4.668550</td>\n",
              "      <td>1.741896</td>\n",
              "      <td>14.368994</td>\n",
              "      <td>2.930720</td>\n",
              "      <td>2.789099</td>\n",
              "      <td>4.057458</td>\n",
              "      <td>16.679367</td>\n",
              "      <td>3.725216</td>\n",
              "      <td>2.969764</td>\n",
              "      <td>1.965492</td>\n",
              "      <td>15.297694</td>\n",
              "      <td>2.368643</td>\n",
              "      <td>15.931790</td>\n",
              "      <td>21.837572</td>\n",
              "      <td>4.101107</td>\n",
              "      <td>2.903375</td>\n",
              "      <td>7.932379</td>\n",
              "      <td>18.932890</td>\n",
              "      <td>4.745543</td>\n",
              "    </tr>\n",
              "    <tr>\n",
              "      <th>2651</th>\n",
              "      <td>5.567957</td>\n",
              "      <td>136.330826</td>\n",
              "      <td>4.932771</td>\n",
              "      <td>8.986316</td>\n",
              "      <td>13.540578</td>\n",
              "      <td>6.353183</td>\n",
              "      <td>2.874333</td>\n",
              "      <td>3.638396</td>\n",
              "      <td>6.211839</td>\n",
              "      <td>6.882393</td>\n",
              "      <td>4.190228</td>\n",
              "      <td>4.658924</td>\n",
              "      <td>1.731998</td>\n",
              "      <td>14.215314</td>\n",
              "      <td>2.911051</td>\n",
              "      <td>2.729438</td>\n",
              "      <td>3.982146</td>\n",
              "      <td>16.621523</td>\n",
              "      <td>3.601042</td>\n",
              "      <td>2.862305</td>\n",
              "      <td>1.946032</td>\n",
              "      <td>15.067942</td>\n",
              "      <td>2.358855</td>\n",
              "      <td>15.914108</td>\n",
              "      <td>20.687199</td>\n",
              "      <td>4.091342</td>\n",
              "      <td>2.854985</td>\n",
              "      <td>7.742652</td>\n",
              "      <td>18.538452</td>\n",
              "      <td>4.629798</td>\n",
              "    </tr>\n",
              "    <tr>\n",
              "      <th>2652</th>\n",
              "      <td>5.672654</td>\n",
              "      <td>136.722031</td>\n",
              "      <td>5.022097</td>\n",
              "      <td>9.042833</td>\n",
              "      <td>13.463752</td>\n",
              "      <td>6.362259</td>\n",
              "      <td>2.843836</td>\n",
              "      <td>3.540061</td>\n",
              "      <td>6.145855</td>\n",
              "      <td>6.854226</td>\n",
              "      <td>4.229206</td>\n",
              "      <td>4.697428</td>\n",
              "      <td>1.692410</td>\n",
              "      <td>14.196105</td>\n",
              "      <td>2.930720</td>\n",
              "      <td>2.764240</td>\n",
              "      <td>4.076286</td>\n",
              "      <td>16.486547</td>\n",
              "      <td>3.658353</td>\n",
              "      <td>2.930688</td>\n",
              "      <td>1.946032</td>\n",
              "      <td>15.125381</td>\n",
              "      <td>2.427369</td>\n",
              "      <td>15.772651</td>\n",
              "      <td>21.252638</td>\n",
              "      <td>4.091342</td>\n",
              "      <td>2.806596</td>\n",
              "      <td>7.580030</td>\n",
              "      <td>18.242628</td>\n",
              "      <td>4.668380</td>\n",
              "    </tr>\n",
              "  </tbody>\n",
              "</table>\n",
              "</div>"
            ],
            "text/plain": [
              "       5183.KL     4707.KL   5225.KL  ...   7113.KL    4065.KL   6012.KL\n",
              "2648  5.710725  138.873596  5.061798  ...  7.860103  18.834280  4.755188\n",
              "2649  5.663136  138.580200  5.111423  ...  8.049829  18.814560  4.784124\n",
              "2650  5.663136  137.504440  5.061798  ...  7.932379  18.932890  4.745543\n",
              "2651  5.567957  136.330826  4.932771  ...  7.742652  18.538452  4.629798\n",
              "2652  5.672654  136.722031  5.022097  ...  7.580030  18.242628  4.668380\n",
              "\n",
              "[5 rows x 30 columns]"
            ]
          },
          "metadata": {},
          "execution_count": 15
        }
      ]
    },
    {
      "cell_type": "code",
      "source": [
        "index_data = df.iloc[ : , 1]\n",
        "index_data.head()"
      ],
      "metadata": {
        "colab": {
          "base_uri": "https://localhost:8080/"
        },
        "id": "HES7JMCiPz9p",
        "outputId": "70b38ebc-b4c7-45ba-cc32-eaca859f6649"
      },
      "execution_count": 16,
      "outputs": [
        {
          "output_type": "execute_result",
          "data": {
            "text/plain": [
              "2648    1494.609985\n",
              "2649    1500.349976\n",
              "2650    1495.199951\n",
              "2651    1466.890015\n",
              "2652    1466.459961\n",
              "Name: ^KLSE;1=9, dtype: float64"
            ]
          },
          "metadata": {},
          "execution_count": 16
        }
      ]
    },
    {
      "cell_type": "code",
      "source": [
        "assets_names = stocks_data.columns.values\n",
        "data_assets = stocks_data\n",
        "data_index = index_data"
      ],
      "metadata": {
        "id": "3NMaOFWGP3BL"
      },
      "execution_count": 17,
      "outputs": []
    },
    {
      "cell_type": "code",
      "source": [
        "print(\"Stocks data (time series) shape: {shape}\".format(shape=stocks_data.shape))\n",
        "print(\"Index data (time series) shape: {shape}\".format(shape=index_data.shape))"
      ],
      "metadata": {
        "colab": {
          "base_uri": "https://localhost:8080/"
        },
        "id": "ZVHqzt42RSU2",
        "outputId": "0d7b174e-7e95-491f-b13c-625c5954c16b"
      },
      "execution_count": 18,
      "outputs": [
        {
          "output_type": "stream",
          "name": "stdout",
          "text": [
            "Stocks data (time series) shape: (270, 30)\n",
            "Index data (time series) shape: (270,)\n"
          ]
        }
      ]
    },
    {
      "cell_type": "code",
      "source": [
        "stocks_data.head()"
      ],
      "metadata": {
        "colab": {
          "base_uri": "https://localhost:8080/",
          "height": 226
        },
        "id": "7ra5DlS5Rhau",
        "outputId": "be4f0428-2799-4052-f596-44477f5637c1"
      },
      "execution_count": 19,
      "outputs": [
        {
          "output_type": "execute_result",
          "data": {
            "text/html": [
              "<div>\n",
              "<style scoped>\n",
              "    .dataframe tbody tr th:only-of-type {\n",
              "        vertical-align: middle;\n",
              "    }\n",
              "\n",
              "    .dataframe tbody tr th {\n",
              "        vertical-align: top;\n",
              "    }\n",
              "\n",
              "    .dataframe thead th {\n",
              "        text-align: right;\n",
              "    }\n",
              "</style>\n",
              "<table border=\"1\" class=\"dataframe\">\n",
              "  <thead>\n",
              "    <tr style=\"text-align: right;\">\n",
              "      <th></th>\n",
              "      <th>5183.KL</th>\n",
              "      <th>4707.KL</th>\n",
              "      <th>5225.KL</th>\n",
              "      <th>5347.KL</th>\n",
              "      <th>1082.KL</th>\n",
              "      <th>1155.KL</th>\n",
              "      <th>1295.KL</th>\n",
              "      <th>7277.KL</th>\n",
              "      <th>3816.KL</th>\n",
              "      <th>3034.KL</th>\n",
              "      <th>1961.KL</th>\n",
              "      <th>5285.KL</th>\n",
              "      <th>5296.KL</th>\n",
              "      <th>5819.KL</th>\n",
              "      <th>3182.KL</th>\n",
              "      <th>8869.KL</th>\n",
              "      <th>1066.KL</th>\n",
              "      <th>5681.KL</th>\n",
              "      <th>6947.KL</th>\n",
              "      <th>6888.KL</th>\n",
              "      <th>4715.KL</th>\n",
              "      <th>6033.KL</th>\n",
              "      <th>4197.KL</th>\n",
              "      <th>5168.KL</th>\n",
              "      <th>2445.KL</th>\n",
              "      <th>4863.KL</th>\n",
              "      <th>1023.KL</th>\n",
              "      <th>7113.KL</th>\n",
              "      <th>4065.KL</th>\n",
              "      <th>6012.KL</th>\n",
              "    </tr>\n",
              "  </thead>\n",
              "  <tbody>\n",
              "    <tr>\n",
              "      <th>2648</th>\n",
              "      <td>5.710725</td>\n",
              "      <td>138.873596</td>\n",
              "      <td>5.061798</td>\n",
              "      <td>9.391359</td>\n",
              "      <td>13.963120</td>\n",
              "      <td>6.425791</td>\n",
              "      <td>2.992509</td>\n",
              "      <td>3.638396</td>\n",
              "      <td>6.428641</td>\n",
              "      <td>6.882393</td>\n",
              "      <td>4.268185</td>\n",
              "      <td>4.784060</td>\n",
              "      <td>1.731998</td>\n",
              "      <td>14.388203</td>\n",
              "      <td>2.950389</td>\n",
              "      <td>2.759269</td>\n",
              "      <td>4.095115</td>\n",
              "      <td>16.505829</td>\n",
              "      <td>3.715664</td>\n",
              "      <td>2.715770</td>\n",
              "      <td>1.955762</td>\n",
              "      <td>15.412571</td>\n",
              "      <td>2.368643</td>\n",
              "      <td>15.631191</td>\n",
              "      <td>21.935061</td>\n",
              "      <td>4.101107</td>\n",
              "      <td>2.942087</td>\n",
              "      <td>7.860103</td>\n",
              "      <td>18.834280</td>\n",
              "      <td>4.755188</td>\n",
              "    </tr>\n",
              "    <tr>\n",
              "      <th>2649</th>\n",
              "      <td>5.663136</td>\n",
              "      <td>138.580200</td>\n",
              "      <td>5.111423</td>\n",
              "      <td>9.316002</td>\n",
              "      <td>14.289630</td>\n",
              "      <td>6.416715</td>\n",
              "      <td>2.996321</td>\n",
              "      <td>3.638396</td>\n",
              "      <td>6.400362</td>\n",
              "      <td>6.882393</td>\n",
              "      <td>4.297419</td>\n",
              "      <td>4.687801</td>\n",
              "      <td>1.722101</td>\n",
              "      <td>14.368994</td>\n",
              "      <td>2.940555</td>\n",
              "      <td>2.774184</td>\n",
              "      <td>4.066873</td>\n",
              "      <td>16.660089</td>\n",
              "      <td>3.744320</td>\n",
              "      <td>2.774384</td>\n",
              "      <td>1.975222</td>\n",
              "      <td>15.335986</td>\n",
              "      <td>2.349067</td>\n",
              "      <td>16.161663</td>\n",
              "      <td>21.798576</td>\n",
              "      <td>4.120636</td>\n",
              "      <td>2.942087</td>\n",
              "      <td>8.049829</td>\n",
              "      <td>18.814560</td>\n",
              "      <td>4.784124</td>\n",
              "    </tr>\n",
              "    <tr>\n",
              "      <th>2650</th>\n",
              "      <td>5.663136</td>\n",
              "      <td>137.504440</td>\n",
              "      <td>5.061798</td>\n",
              "      <td>9.212385</td>\n",
              "      <td>14.116772</td>\n",
              "      <td>6.416715</td>\n",
              "      <td>2.988696</td>\n",
              "      <td>3.628562</td>\n",
              "      <td>6.362658</td>\n",
              "      <td>6.882393</td>\n",
              "      <td>4.248695</td>\n",
              "      <td>4.668550</td>\n",
              "      <td>1.741896</td>\n",
              "      <td>14.368994</td>\n",
              "      <td>2.930720</td>\n",
              "      <td>2.789099</td>\n",
              "      <td>4.057458</td>\n",
              "      <td>16.679367</td>\n",
              "      <td>3.725216</td>\n",
              "      <td>2.969764</td>\n",
              "      <td>1.965492</td>\n",
              "      <td>15.297694</td>\n",
              "      <td>2.368643</td>\n",
              "      <td>15.931790</td>\n",
              "      <td>21.837572</td>\n",
              "      <td>4.101107</td>\n",
              "      <td>2.903375</td>\n",
              "      <td>7.932379</td>\n",
              "      <td>18.932890</td>\n",
              "      <td>4.745543</td>\n",
              "    </tr>\n",
              "    <tr>\n",
              "      <th>2651</th>\n",
              "      <td>5.567957</td>\n",
              "      <td>136.330826</td>\n",
              "      <td>4.932771</td>\n",
              "      <td>8.986316</td>\n",
              "      <td>13.540578</td>\n",
              "      <td>6.353183</td>\n",
              "      <td>2.874333</td>\n",
              "      <td>3.638396</td>\n",
              "      <td>6.211839</td>\n",
              "      <td>6.882393</td>\n",
              "      <td>4.190228</td>\n",
              "      <td>4.658924</td>\n",
              "      <td>1.731998</td>\n",
              "      <td>14.215314</td>\n",
              "      <td>2.911051</td>\n",
              "      <td>2.729438</td>\n",
              "      <td>3.982146</td>\n",
              "      <td>16.621523</td>\n",
              "      <td>3.601042</td>\n",
              "      <td>2.862305</td>\n",
              "      <td>1.946032</td>\n",
              "      <td>15.067942</td>\n",
              "      <td>2.358855</td>\n",
              "      <td>15.914108</td>\n",
              "      <td>20.687199</td>\n",
              "      <td>4.091342</td>\n",
              "      <td>2.854985</td>\n",
              "      <td>7.742652</td>\n",
              "      <td>18.538452</td>\n",
              "      <td>4.629798</td>\n",
              "    </tr>\n",
              "    <tr>\n",
              "      <th>2652</th>\n",
              "      <td>5.672654</td>\n",
              "      <td>136.722031</td>\n",
              "      <td>5.022097</td>\n",
              "      <td>9.042833</td>\n",
              "      <td>13.463752</td>\n",
              "      <td>6.362259</td>\n",
              "      <td>2.843836</td>\n",
              "      <td>3.540061</td>\n",
              "      <td>6.145855</td>\n",
              "      <td>6.854226</td>\n",
              "      <td>4.229206</td>\n",
              "      <td>4.697428</td>\n",
              "      <td>1.692410</td>\n",
              "      <td>14.196105</td>\n",
              "      <td>2.930720</td>\n",
              "      <td>2.764240</td>\n",
              "      <td>4.076286</td>\n",
              "      <td>16.486547</td>\n",
              "      <td>3.658353</td>\n",
              "      <td>2.930688</td>\n",
              "      <td>1.946032</td>\n",
              "      <td>15.125381</td>\n",
              "      <td>2.427369</td>\n",
              "      <td>15.772651</td>\n",
              "      <td>21.252638</td>\n",
              "      <td>4.091342</td>\n",
              "      <td>2.806596</td>\n",
              "      <td>7.580030</td>\n",
              "      <td>18.242628</td>\n",
              "      <td>4.668380</td>\n",
              "    </tr>\n",
              "  </tbody>\n",
              "</table>\n",
              "</div>"
            ],
            "text/plain": [
              "       5183.KL     4707.KL   5225.KL  ...   7113.KL    4065.KL   6012.KL\n",
              "2648  5.710725  138.873596  5.061798  ...  7.860103  18.834280  4.755188\n",
              "2649  5.663136  138.580200  5.111423  ...  8.049829  18.814560  4.784124\n",
              "2650  5.663136  137.504440  5.061798  ...  7.932379  18.932890  4.745543\n",
              "2651  5.567957  136.330826  4.932771  ...  7.742652  18.538452  4.629798\n",
              "2652  5.672654  136.722031  5.022097  ...  7.580030  18.242628  4.668380\n",
              "\n",
              "[5 rows x 30 columns]"
            ]
          },
          "metadata": {},
          "execution_count": 19
        }
      ]
    },
    {
      "cell_type": "code",
      "source": [
        "# Split data\n",
        "n_train = int(data_assets.shape[0]*0.8)"
      ],
      "metadata": {
        "id": "GiGK9KIERq94"
      },
      "execution_count": 20,
      "outputs": []
    },
    {
      "cell_type": "code",
      "source": [
        "# Stocks data\n",
        "X_train = data_assets.values[:n_train, :]\n",
        "X_test = data_assets.values[n_train:, :]"
      ],
      "metadata": {
        "id": "W8EX2qXCRsSn"
      },
      "execution_count": 21,
      "outputs": []
    },
    {
      "cell_type": "code",
      "source": [
        "# Index data\n",
        "index_train = data_index[:n_train]\n",
        "index_test = data_index[n_train:]"
      ],
      "metadata": {
        "id": "P4utYpT9Ruoo"
      },
      "execution_count": 22,
      "outputs": []
    },
    {
      "cell_type": "code",
      "source": [
        "# Normalize data\n",
        "scaler = MinMaxScaler([0, 1])"
      ],
      "metadata": {
        "id": "RVVzszIlRw2P"
      },
      "execution_count": 23,
      "outputs": []
    },
    {
      "cell_type": "code",
      "source": [
        "# Stocks data\n",
        "X_train = scaler.fit_transform(X_train)\n",
        "X_test = scaler.fit_transform(X_test)"
      ],
      "metadata": {
        "id": "NTMT7RDAR0m6"
      },
      "execution_count": 24,
      "outputs": []
    },
    {
      "cell_type": "code",
      "source": [
        "# Index data\n",
        "scaler_index = MinMaxScaler([0, 1])\n",
        "index_train = scaler_index.fit_transform(index_train[:, np.newaxis])\n",
        "index_test = scaler_index.fit_transform(index_test[:, np.newaxis])"
      ],
      "metadata": {
        "colab": {
          "base_uri": "https://localhost:8080/"
        },
        "id": "APjiy3kZR2qi",
        "outputId": "cb5c7bad-ca10-4f68-e81f-f7b5c3712625"
      },
      "execution_count": 25,
      "outputs": [
        {
          "output_type": "stream",
          "name": "stderr",
          "text": [
            "/usr/local/lib/python3.7/dist-packages/ipykernel_launcher.py:3: FutureWarning: Support for multi-dimensional indexing (e.g. `obj[:, None]`) is deprecated and will be removed in a future version.  Convert to a numpy array before indexing instead.\n",
            "  This is separate from the ipykernel package so we can avoid doing imports until\n",
            "/usr/local/lib/python3.7/dist-packages/ipykernel_launcher.py:4: FutureWarning: Support for multi-dimensional indexing (e.g. `obj[:, None]`) is deprecated and will be removed in a future version.  Convert to a numpy array before indexing instead.\n",
            "  after removing the cwd from sys.path.\n"
          ]
        }
      ]
    },
    {
      "cell_type": "markdown",
      "source": [
        "Autoencoder - Keras"
      ],
      "metadata": {
        "id": "0HwH0ubaR6hd"
      }
    },
    {
      "cell_type": "code",
      "source": [
        "# Network hyperparameters\n",
        "n_inputs = X_train.shape[1]"
      ],
      "metadata": {
        "id": "A3EdHAb9R7hM"
      },
      "execution_count": 26,
      "outputs": []
    },
    {
      "cell_type": "code",
      "source": [
        "# Training hyperparameters\n",
        "epochs = 50\n",
        "batch_size = 1"
      ],
      "metadata": {
        "id": "09jfied8R-6l"
      },
      "execution_count": 27,
      "outputs": []
    },
    {
      "cell_type": "code",
      "source": [
        "# Define model\n",
        "input = Input(shape=(n_inputs,))\n",
        "# Encoder Layers\n",
        "encoded = Dense(8, input_shape=(n_inputs,), activation='relu')(input)\n",
        "encoded = Dense(4, activation='relu')(encoded)\n",
        "decoded = Dense(8, activation='relu')(encoded)\n",
        "decoded = Dense(n_inputs, activation='sigmoid')(decoded)"
      ],
      "metadata": {
        "id": "fEMUxusCSDtH"
      },
      "execution_count": 28,
      "outputs": []
    },
    {
      "cell_type": "code",
      "source": [
        "# Encoder\n",
        "encoder = Model(input, encoded)\n",
        "\n",
        "# Autoencoder\n",
        "model = Model(input, decoded)"
      ],
      "metadata": {
        "id": "yqiIeTdXSEuy"
      },
      "execution_count": 29,
      "outputs": []
    },
    {
      "cell_type": "code",
      "source": [
        "# Compile autoencoder\n",
        "model.compile(loss='mse', optimizer='adam')\n",
        "model.summary()"
      ],
      "metadata": {
        "colab": {
          "base_uri": "https://localhost:8080/"
        },
        "id": "ZHG_b1rZSJCF",
        "outputId": "de437b26-d3f3-4b0f-c330-c246f1283fdb"
      },
      "execution_count": 30,
      "outputs": [
        {
          "output_type": "stream",
          "name": "stdout",
          "text": [
            "Model: \"model_1\"\n",
            "_________________________________________________________________\n",
            " Layer (type)                Output Shape              Param #   \n",
            "=================================================================\n",
            " input_1 (InputLayer)        [(None, 30)]              0         \n",
            "                                                                 \n",
            " dense (Dense)               (None, 8)                 248       \n",
            "                                                                 \n",
            " dense_1 (Dense)             (None, 4)                 36        \n",
            "                                                                 \n",
            " dense_2 (Dense)             (None, 8)                 40        \n",
            "                                                                 \n",
            " dense_3 (Dense)             (None, 30)                270       \n",
            "                                                                 \n",
            "=================================================================\n",
            "Total params: 594\n",
            "Trainable params: 594\n",
            "Non-trainable params: 0\n",
            "_________________________________________________________________\n"
          ]
        }
      ]
    },
    {
      "cell_type": "code",
      "source": [
        "# Fit the model\n",
        "history = model.fit(X_train, X_train,epochs=epochs,batch_size=batch_size,shuffle=True,verbose=1)"
      ],
      "metadata": {
        "colab": {
          "base_uri": "https://localhost:8080/"
        },
        "id": "7Md7jIm_SKj2",
        "outputId": "4c28c06b-d1d4-4d52-bf28-891f4fab64eb"
      },
      "execution_count": 31,
      "outputs": [
        {
          "output_type": "stream",
          "name": "stdout",
          "text": [
            "Epoch 1/50\n",
            "216/216 [==============================] - 2s 2ms/step - loss: 0.0542\n",
            "Epoch 2/50\n",
            "216/216 [==============================] - 1s 2ms/step - loss: 0.0366\n",
            "Epoch 3/50\n",
            "216/216 [==============================] - 1s 2ms/step - loss: 0.0325\n",
            "Epoch 4/50\n",
            "216/216 [==============================] - 1s 2ms/step - loss: 0.0290\n",
            "Epoch 5/50\n",
            "216/216 [==============================] - 1s 2ms/step - loss: 0.0249\n",
            "Epoch 6/50\n",
            "216/216 [==============================] - 1s 2ms/step - loss: 0.0208\n",
            "Epoch 7/50\n",
            "216/216 [==============================] - 1s 2ms/step - loss: 0.0190\n",
            "Epoch 8/50\n",
            "216/216 [==============================] - 1s 2ms/step - loss: 0.0179\n",
            "Epoch 9/50\n",
            "216/216 [==============================] - 1s 2ms/step - loss: 0.0172\n",
            "Epoch 10/50\n",
            "216/216 [==============================] - 1s 2ms/step - loss: 0.0165\n",
            "Epoch 11/50\n",
            "216/216 [==============================] - 1s 2ms/step - loss: 0.0159\n",
            "Epoch 12/50\n",
            "216/216 [==============================] - 1s 2ms/step - loss: 0.0154\n",
            "Epoch 13/50\n",
            "216/216 [==============================] - 1s 2ms/step - loss: 0.0149\n",
            "Epoch 14/50\n",
            "216/216 [==============================] - 1s 2ms/step - loss: 0.0146\n",
            "Epoch 15/50\n",
            "216/216 [==============================] - 1s 2ms/step - loss: 0.0143\n",
            "Epoch 16/50\n",
            "216/216 [==============================] - 1s 2ms/step - loss: 0.0139\n",
            "Epoch 17/50\n",
            "216/216 [==============================] - 1s 2ms/step - loss: 0.0136\n",
            "Epoch 18/50\n",
            "216/216 [==============================] - 1s 3ms/step - loss: 0.0135\n",
            "Epoch 19/50\n",
            "216/216 [==============================] - 1s 2ms/step - loss: 0.0132\n",
            "Epoch 20/50\n",
            "216/216 [==============================] - 1s 2ms/step - loss: 0.0131\n",
            "Epoch 21/50\n",
            "216/216 [==============================] - 1s 2ms/step - loss: 0.0129\n",
            "Epoch 22/50\n",
            "216/216 [==============================] - 1s 2ms/step - loss: 0.0128\n",
            "Epoch 23/50\n",
            "216/216 [==============================] - 1s 2ms/step - loss: 0.0126\n",
            "Epoch 24/50\n",
            "216/216 [==============================] - 1s 2ms/step - loss: 0.0125\n",
            "Epoch 25/50\n",
            "216/216 [==============================] - 1s 2ms/step - loss: 0.0124\n",
            "Epoch 26/50\n",
            "216/216 [==============================] - 1s 2ms/step - loss: 0.0122\n",
            "Epoch 27/50\n",
            "216/216 [==============================] - 1s 2ms/step - loss: 0.0121\n",
            "Epoch 28/50\n",
            "216/216 [==============================] - 1s 2ms/step - loss: 0.0120\n",
            "Epoch 29/50\n",
            "216/216 [==============================] - 1s 2ms/step - loss: 0.0119\n",
            "Epoch 30/50\n",
            "216/216 [==============================] - 1s 2ms/step - loss: 0.0118\n",
            "Epoch 31/50\n",
            "216/216 [==============================] - 1s 2ms/step - loss: 0.0117\n",
            "Epoch 32/50\n",
            "216/216 [==============================] - 1s 2ms/step - loss: 0.0115\n",
            "Epoch 33/50\n",
            "216/216 [==============================] - 1s 2ms/step - loss: 0.0114\n",
            "Epoch 34/50\n",
            "216/216 [==============================] - 1s 3ms/step - loss: 0.0112\n",
            "Epoch 35/50\n",
            "216/216 [==============================] - 1s 2ms/step - loss: 0.0112\n",
            "Epoch 36/50\n",
            "216/216 [==============================] - 1s 2ms/step - loss: 0.0111\n",
            "Epoch 37/50\n",
            "216/216 [==============================] - 1s 2ms/step - loss: 0.0109\n",
            "Epoch 38/50\n",
            "216/216 [==============================] - 1s 2ms/step - loss: 0.0108\n",
            "Epoch 39/50\n",
            "216/216 [==============================] - 1s 2ms/step - loss: 0.0106\n",
            "Epoch 40/50\n",
            "216/216 [==============================] - 1s 2ms/step - loss: 0.0105\n",
            "Epoch 41/50\n",
            "216/216 [==============================] - 1s 2ms/step - loss: 0.0104\n",
            "Epoch 42/50\n",
            "216/216 [==============================] - 1s 2ms/step - loss: 0.0102\n",
            "Epoch 43/50\n",
            "216/216 [==============================] - 1s 2ms/step - loss: 0.0100\n",
            "Epoch 44/50\n",
            "216/216 [==============================] - 1s 2ms/step - loss: 0.0099\n",
            "Epoch 45/50\n",
            "216/216 [==============================] - 1s 2ms/step - loss: 0.0097\n",
            "Epoch 46/50\n",
            "216/216 [==============================] - 1s 3ms/step - loss: 0.0096\n",
            "Epoch 47/50\n",
            "216/216 [==============================] - 1s 2ms/step - loss: 0.0095\n",
            "Epoch 48/50\n",
            "216/216 [==============================] - 1s 3ms/step - loss: 0.0094\n",
            "Epoch 49/50\n",
            "216/216 [==============================] - 1s 2ms/step - loss: 0.0093\n",
            "Epoch 50/50\n",
            "216/216 [==============================] - 1s 3ms/step - loss: 0.0092\n"
          ]
        }
      ]
    },
    {
      "cell_type": "code",
      "source": [
        "# Visualize loss history\n",
        "plt.figure()\n",
        "plt.plot(history.history['loss'])\n",
        "plt.ylabel('Loss')\n",
        "plt.xlabel('Epoch')\n",
        "plt.show()"
      ],
      "metadata": {
        "colab": {
          "base_uri": "https://localhost:8080/",
          "height": 279
        },
        "id": "-ydBnyNMSvtH",
        "outputId": "5d08b3f5-24eb-411b-9f31-8ac014ee7974"
      },
      "execution_count": 32,
      "outputs": [
        {
          "output_type": "display_data",
          "data": {
            "image/png": "[encoded data removed]",
            "text/plain": [
              "<Figure size 432x288 with 1 Axes>"
            ]
          },
          "metadata": {
            "needs_background": "light"
          }
        }
      ]
    },
    {
      "cell_type": "code",
      "source": [
        "# Evaluate model\n",
        "score_train = model.evaluate(X_train, X_train, batch_size=batch_size)\n",
        "score_test = model.evaluate(X_test, X_test, batch_size=batch_size)"
      ],
      "metadata": {
        "colab": {
          "base_uri": "https://localhost:8080/"
        },
        "id": "czXO2DzdS0Ep",
        "outputId": "f6732424-79ef-4ca6-cc83-3799d8d14640"
      },
      "execution_count": 33,
      "outputs": [
        {
          "output_type": "stream",
          "name": "stdout",
          "text": [
            "216/216 [==============================] - 1s 2ms/step - loss: 0.0091\n",
            "54/54 [==============================] - 0s 2ms/step - loss: 0.0615\n"
          ]
        }
      ]
    },
    {
      "cell_type": "code",
      "source": [
        "print('Training MSE: %.8f' %score_train)\n",
        "print('Testing MSE: %.8f' %score_test)"
      ],
      "metadata": {
        "colab": {
          "base_uri": "https://localhost:8080/"
        },
        "id": "U4oGzQakS262",
        "outputId": "57da9a3f-8bff-424e-8a37-13893f460421"
      },
      "execution_count": 34,
      "outputs": [
        {
          "output_type": "stream",
          "name": "stdout",
          "text": [
            "Training MSE: 0.00906087\n",
            "Testing MSE: 0.06146298\n"
          ]
        }
      ]
    },
    {
      "cell_type": "code",
      "source": [
        "# Obtain reconstruction of the stocks\n",
        "X_train_pred = model.predict(X_train)\n",
        "X_test_pred = model.predict(X_test)"
      ],
      "metadata": {
        "id": "bv5veDuaS53J"
      },
      "execution_count": 35,
      "outputs": []
    },
    {
      "cell_type": "code",
      "source": [
        "error = np.mean(np.abs(X_train - X_train_pred)**2, axis=0)\n",
        "print('Training MSE: %.8f' %np.mean(error))"
      ],
      "metadata": {
        "colab": {
          "base_uri": "https://localhost:8080/"
        },
        "id": "D3pk_DEIS8Co",
        "outputId": "7ecb0d2b-d57e-4a16-8ab2-45ee879eb212"
      },
      "execution_count": 36,
      "outputs": [
        {
          "output_type": "stream",
          "name": "stdout",
          "text": [
            "Training MSE: 0.00906087\n"
          ]
        }
      ]
    },
    {
      "cell_type": "code",
      "source": [
        "error_test = np.mean(np.abs(X_test - X_test_pred)**2, axis=0)\n",
        "print('Testing MSE: %.8f' %np.mean(error_test))"
      ],
      "metadata": {
        "colab": {
          "base_uri": "https://localhost:8080/"
        },
        "id": "sfL53rBOS-Mk",
        "outputId": "71856499-d5b5-44b1-d7c6-54db4af914f1"
      },
      "execution_count": 37,
      "outputs": [
        {
          "output_type": "stream",
          "name": "stdout",
          "text": [
            "Testing MSE: 0.06146298\n"
          ]
        }
      ]
    },
    {
      "cell_type": "code",
      "source": [
        "# Sort stocks by reconstruction error\n",
        "ind = np.argsort(error)\n",
        "sort_error = error[ind]\n",
        "sort_assets_names = assets_names[ind]"
      ],
      "metadata": {
        "id": "xKR9rAYoTBYV"
      },
      "execution_count": 38,
      "outputs": []
    },
    {
      "cell_type": "code",
      "source": [
        "# Barplot\n",
        "plt.figure()\n",
        "plt.barh(2*np.arange(len(error[:20])), error[ind[:20]], tick_label=assets_names[ind[:20]])\n",
        "plt.xlabel('MSE')\n",
        "plt.show()"
      ],
      "metadata": {
        "colab": {
          "base_uri": "https://localhost:8080/",
          "height": 279
        },
        "id": "LZOFi1bxTDxP",
        "outputId": "d703b800-0174-4894-eb86-98e3626cfdf8"
      },
      "execution_count": 39,
      "outputs": [
        {
          "output_type": "display_data",
          "data": {
            "image/png": "[encoded data removed]",
            "text/plain": [
              "<Figure size 432x288 with 1 Axes>"
            ]
          },
          "metadata": {
            "needs_background": "light"
          }
        }
      ]
    },
    {
      "cell_type": "code",
      "source": [
        "# Plot stock\n",
        "i=-1\n",
        "plt.figure()\n",
        "plt.plot(X_train[:, ind[i]], label=assets_names[ind[i]] + ' Stock')\n",
        "plt.plot(X_train_pred[:, ind[i]], label=assets_names[ind[i]] + ' AE')\n",
        "plt.legend()\n",
        "plt.xlabel('Time (days)')\n",
        "plt.ylabel('Normalized price')\n",
        "plt.show()"
      ],
      "metadata": {
        "colab": {
          "base_uri": "https://localhost:8080/",
          "height": 279
        },
        "id": "yKeL6T5sTGul",
        "outputId": "03b93bfe-1112-4a65-9c41-d6e19b54192d"
      },
      "execution_count": 40,
      "outputs": [
        {
          "output_type": "display_data",
          "data": {
            "image/png": "[encoded data removed]",
            "text/plain": [
              "<Figure size 432x288 with 1 Axes>"
            ]
          },
          "metadata": {
            "needs_background": "light"
          }
        }
      ]
    },
    {
      "cell_type": "code",
      "source": [
        "# Identify stocks\n",
        "n = 5\n",
        "\n",
        "portfolio_train = X_train_pred[:, ind[:n]]\n",
        "portfolio_test = X_test_pred[:, ind[:n]]"
      ],
      "metadata": {
        "id": "WQ3SZk0FTJf7"
      },
      "execution_count": 41,
      "outputs": []
    },
    {
      "cell_type": "code",
      "source": [
        "# Create portfolio in-sample\n",
        "tracked_index_insample = np.mean(portfolio_train, axis=1)"
      ],
      "metadata": {
        "id": "H2adnd-0TRaJ"
      },
      "execution_count": 42,
      "outputs": []
    },
    {
      "cell_type": "code",
      "source": [
        "# Create portfolio out-sample\n",
        "tracked_index_outofsample = np.mean(portfolio_test, axis=1)"
      ],
      "metadata": {
        "id": "tajA5Qs7TTB5"
      },
      "execution_count": 43,
      "outputs": []
    },
    {
      "cell_type": "code",
      "source": [
        "# In-sample\n",
        "plt.figure()\n",
        "plt.plot(index_train, label='FBMKLCI Index')\n",
        "plt.plot(tracked_index_insample, label='Tracked Index')\n",
        "plt.legend()\n",
        "plt.xlabel('Time (days)')\n",
        "plt.ylabel('Normalized price')\n",
        "plt.show()"
      ],
      "metadata": {
        "colab": {
          "base_uri": "https://localhost:8080/",
          "height": 279
        },
        "id": "jV0h0a8eTVN4",
        "outputId": "c3701b50-a3c6-4b43-d8e4-4f12e3bd5982"
      },
      "execution_count": 45,
      "outputs": [
        {
          "output_type": "display_data",
          "data": {
            "image/png": "[encoded data removed]",
            "text/plain": [
              "<Figure size 432x288 with 1 Axes>"
            ]
          },
          "metadata": {
            "needs_background": "light"
          }
        }
      ]
    },
    {
      "cell_type": "code",
      "source": [
        "# Correlation coefficient (in-sample)\n",
        "corr_train = np.corrcoef(index_train.squeeze(), tracked_index_insample)[0, 1]\n",
        "print('Correlation coefficient (in-sample): %.8f' %corr_train)"
      ],
      "metadata": {
        "colab": {
          "base_uri": "https://localhost:8080/"
        },
        "id": "Q8u1eQzgTYM-",
        "outputId": "398955ca-dc0f-4112-c31c-38e07ae76ab5"
      },
      "execution_count": 46,
      "outputs": [
        {
          "output_type": "stream",
          "name": "stdout",
          "text": [
            "Correlation coefficient (in-sample): 0.31504229\n"
          ]
        }
      ]
    },
    {
      "cell_type": "code",
      "source": [
        "# Plot tracked index (out-of-sample)\n",
        "plt.figure()\n",
        "plt.plot(index_test, label='FBMKLCI Index')\n",
        "plt.plot(tracked_index_outofsample, label='Tracked Index')\n",
        "plt.legend()\n",
        "plt.xlabel('Time (days)')\n",
        "plt.ylabel('Normalized price')\n",
        "plt.show()"
      ],
      "metadata": {
        "colab": {
          "base_uri": "https://localhost:8080/",
          "height": 279
        },
        "id": "NehrUH3KTb2m",
        "outputId": "33d64b06-d2aa-4c63-a2fb-399a1ac040e2"
      },
      "execution_count": 72,
      "outputs": [
        {
          "output_type": "display_data",
          "data": {
            "image/png": "[encoded data removed]",
            "text/plain": [
              "<Figure size 432x288 with 1 Axes>"
            ]
          },
          "metadata": {
            "needs_background": "light"
          }
        }
      ]
    },
    {
      "cell_type": "code",
      "source": [
        "# Correlation coefficient (out-of-sample)\n",
        "corr_test = np.corrcoef(index_test.squeeze(), tracked_index_outofsample)[0, 1]\n",
        "print('Correlation coefficient: %.8f' %corr_test)"
      ],
      "metadata": {
        "colab": {
          "base_uri": "https://localhost:8080/"
        },
        "id": "Ht4tyc25TerD",
        "outputId": "59e50cb3-5499-4b6f-8223-dfebcc59e4d7"
      },
      "execution_count": 48,
      "outputs": [
        {
          "output_type": "stream",
          "name": "stdout",
          "text": [
            "Correlation coefficient: 0.94327039\n"
          ]
        }
      ]
    },
    {
      "cell_type": "code",
      "source": [
        "# Generate corrupted series by adding noise with normal distribution\n",
        "noise_factor = 0.05\n",
        "X_train_noisy = X_train + noise_factor * np.random.normal(loc=0.0, scale=1.0, size=X_train.shape)\n",
        "X_test_noisy = X_test + noise_factor * np.random.normal(loc=0.0, scale=1.0, size=X_test.shape)"
      ],
      "metadata": {
        "id": "WJSVAAYeTgGP"
      },
      "execution_count": 49,
      "outputs": []
    },
    {
      "cell_type": "code",
      "source": [
        "# Clip corrupter data\n",
        "X_train_noisy = np.clip(X_train_noisy, 0., 1.)\n",
        "X_test_noisy = np.clip(X_test_noisy, 0., 1.)"
      ],
      "metadata": {
        "id": "FwOLcxqiTkGA"
      },
      "execution_count": 50,
      "outputs": []
    },
    {
      "cell_type": "code",
      "source": [
        "# Visualize corrupted data\n",
        "f, axarr = plt.subplots(2, 3, sharex=True, sharey=True, figsize=(15,5))\n",
        "\n",
        "# Asset 1\n",
        "axarr[0,0].plot(X_train[:, 0])\n",
        "axarr[0,0].set_title(assets_names[0])\n",
        "axarr[1,0].plot(X_train_noisy[:, 0])\n",
        "\n",
        "# Asset 2\n",
        "axarr[0,1].plot(X_train[:, 1])\n",
        "axarr[0,1].set_title(assets_names[1])\n",
        "axarr[1,1].plot(X_train_noisy[:, 1])\n",
        "\n",
        "# Asset 3\n",
        "axarr[0,2].plot(X_train[:, 2])\n",
        "axarr[0,2].set_title(assets_names[2])\n",
        "axarr[1,2].plot(X_train_noisy[:, 2])\n",
        "\n",
        "plt.show()"
      ],
      "metadata": {
        "colab": {
          "base_uri": "https://localhost:8080/",
          "height": 336
        },
        "id": "jhHkqIqXTmku",
        "outputId": "8e5b7fbb-c837-4ee0-f7fb-c509a303f9c4"
      },
      "execution_count": 51,
      "outputs": [
        {
          "output_type": "display_data",
          "data": {
            "image/png": "[encoded data removed]",
            "text/plain": [
              "<Figure size 1080x360 with 6 Axes>"
            ]
          },
          "metadata": {
            "needs_background": "light"
          }
        }
      ]
    },
    {
      "cell_type": "markdown",
      "source": [
        "Autoencoder - Keras"
      ],
      "metadata": {
        "id": "H3L6rdQQUDns"
      }
    },
    {
      "cell_type": "code",
      "source": [
        "# Network hyperparameters\n",
        "n_inputs = X_train.shape[1]"
      ],
      "metadata": {
        "id": "jPL66RI-T3nY"
      },
      "execution_count": 52,
      "outputs": []
    },
    {
      "cell_type": "code",
      "source": [
        "# Training hyperparameters\n",
        "epochs = 50\n",
        "batch_size = 1\n",
        "\n",
        "# Define model\n",
        "input = Input(shape=(n_inputs,))\n",
        "# Encoder Layers\n",
        "encoded = Dense(8, input_shape=(n_inputs,), activation='relu')(input)\n",
        "encoded = Dense(4, activation='relu')(encoded)\n",
        "decoded = Dense(8, activation='relu')(encoded)\n",
        "decoded = Dense(n_inputs, activation='sigmoid')(decoded)"
      ],
      "metadata": {
        "id": "ogX7YvD_UIdU"
      },
      "execution_count": 53,
      "outputs": []
    },
    {
      "cell_type": "code",
      "source": [
        "# Encoder\n",
        "encoder = Model(input, encoded)\n",
        "\n",
        "# Autoencoder\n",
        "model = Model(input, decoded)"
      ],
      "metadata": {
        "id": "w2KUK4bOUJt8"
      },
      "execution_count": 54,
      "outputs": []
    },
    {
      "cell_type": "code",
      "source": [
        "# Compile autoencoder\n",
        "model.compile(loss='mse', optimizer='adam')\n",
        "model.summary()\n",
        "\n",
        "# Fit the model\n",
        "history = model.fit(X_train_noisy, X_train,epochs=epochs,batch_size=batch_size,shuffle=True,verbose=1)"
      ],
      "metadata": {
        "colab": {
          "base_uri": "https://localhost:8080/"
        },
        "id": "p8t6oeNPUL9K",
        "outputId": "07695cc7-aa30-43ba-9c36-4489584cc2fc"
      },
      "execution_count": 55,
      "outputs": [
        {
          "output_type": "stream",
          "name": "stdout",
          "text": [
            "Model: \"model_3\"\n",
            "_________________________________________________________________\n",
            " Layer (type)                Output Shape              Param #   \n",
            "=================================================================\n",
            " input_2 (InputLayer)        [(None, 30)]              0         \n",
            "                                                                 \n",
            " dense_4 (Dense)             (None, 8)                 248       \n",
            "                                                                 \n",
            " dense_5 (Dense)             (None, 4)                 36        \n",
            "                                                                 \n",
            " dense_6 (Dense)             (None, 8)                 40        \n",
            "                                                                 \n",
            " dense_7 (Dense)             (None, 30)                270       \n",
            "                                                                 \n",
            "=================================================================\n",
            "Total params: 594\n",
            "Trainable params: 594\n",
            "Non-trainable params: 0\n",
            "_________________________________________________________________\n",
            "Epoch 1/50\n",
            "216/216 [==============================] - 1s 3ms/step - loss: 0.0615\n",
            "Epoch 2/50\n",
            "216/216 [==============================] - 1s 3ms/step - loss: 0.0471\n",
            "Epoch 3/50\n",
            "216/216 [==============================] - 1s 3ms/step - loss: 0.0405\n",
            "Epoch 4/50\n",
            "216/216 [==============================] - 1s 3ms/step - loss: 0.0364\n",
            "Epoch 5/50\n",
            "216/216 [==============================] - 1s 3ms/step - loss: 0.0278\n",
            "Epoch 6/50\n",
            "216/216 [==============================] - 1s 2ms/step - loss: 0.0222\n",
            "Epoch 7/50\n",
            "216/216 [==============================] - 1s 3ms/step - loss: 0.0198\n",
            "Epoch 8/50\n",
            "216/216 [==============================] - 1s 2ms/step - loss: 0.0186\n",
            "Epoch 9/50\n",
            "216/216 [==============================] - 1s 2ms/step - loss: 0.0178\n",
            "Epoch 10/50\n",
            "216/216 [==============================] - 1s 2ms/step - loss: 0.0172\n",
            "Epoch 11/50\n",
            "216/216 [==============================] - 1s 2ms/step - loss: 0.0167\n",
            "Epoch 12/50\n",
            "216/216 [==============================] - 1s 2ms/step - loss: 0.0161\n",
            "Epoch 13/50\n",
            "216/216 [==============================] - 1s 3ms/step - loss: 0.0154\n",
            "Epoch 14/50\n",
            "216/216 [==============================] - 1s 2ms/step - loss: 0.0148\n",
            "Epoch 15/50\n",
            "216/216 [==============================] - 1s 3ms/step - loss: 0.0142\n",
            "Epoch 16/50\n",
            "216/216 [==============================] - 1s 3ms/step - loss: 0.0136\n",
            "Epoch 17/50\n",
            "216/216 [==============================] - 1s 2ms/step - loss: 0.0133\n",
            "Epoch 18/50\n",
            "216/216 [==============================] - 1s 3ms/step - loss: 0.0127\n",
            "Epoch 19/50\n",
            "216/216 [==============================] - 1s 2ms/step - loss: 0.0122\n",
            "Epoch 20/50\n",
            "216/216 [==============================] - 1s 3ms/step - loss: 0.0119\n",
            "Epoch 21/50\n",
            "216/216 [==============================] - 1s 2ms/step - loss: 0.0116\n",
            "Epoch 22/50\n",
            "216/216 [==============================] - 1s 3ms/step - loss: 0.0113\n",
            "Epoch 23/50\n",
            "216/216 [==============================] - 1s 3ms/step - loss: 0.0111\n",
            "Epoch 24/50\n",
            "216/216 [==============================] - 1s 2ms/step - loss: 0.0109\n",
            "Epoch 25/50\n",
            "216/216 [==============================] - 1s 2ms/step - loss: 0.0107\n",
            "Epoch 26/50\n",
            "216/216 [==============================] - 1s 2ms/step - loss: 0.0105\n",
            "Epoch 27/50\n",
            "216/216 [==============================] - 1s 2ms/step - loss: 0.0104\n",
            "Epoch 28/50\n",
            "216/216 [==============================] - 1s 3ms/step - loss: 0.0103\n",
            "Epoch 29/50\n",
            "216/216 [==============================] - 1s 2ms/step - loss: 0.0101\n",
            "Epoch 30/50\n",
            "216/216 [==============================] - 1s 3ms/step - loss: 0.0099\n",
            "Epoch 31/50\n",
            "216/216 [==============================] - 1s 3ms/step - loss: 0.0098\n",
            "Epoch 32/50\n",
            "216/216 [==============================] - 1s 2ms/step - loss: 0.0096\n",
            "Epoch 33/50\n",
            "216/216 [==============================] - 1s 2ms/step - loss: 0.0095\n",
            "Epoch 34/50\n",
            "216/216 [==============================] - 1s 2ms/step - loss: 0.0094\n",
            "Epoch 35/50\n",
            "216/216 [==============================] - 1s 2ms/step - loss: 0.0093\n",
            "Epoch 36/50\n",
            "216/216 [==============================] - 1s 2ms/step - loss: 0.0092\n",
            "Epoch 37/50\n",
            "216/216 [==============================] - 1s 3ms/step - loss: 0.0090\n",
            "Epoch 38/50\n",
            "216/216 [==============================] - 1s 3ms/step - loss: 0.0089\n",
            "Epoch 39/50\n",
            "216/216 [==============================] - 1s 3ms/step - loss: 0.0088\n",
            "Epoch 40/50\n",
            "216/216 [==============================] - 1s 2ms/step - loss: 0.0087\n",
            "Epoch 41/50\n",
            "216/216 [==============================] - 1s 2ms/step - loss: 0.0086\n",
            "Epoch 42/50\n",
            "216/216 [==============================] - 1s 2ms/step - loss: 0.0086\n",
            "Epoch 43/50\n",
            "216/216 [==============================] - 1s 2ms/step - loss: 0.0084\n",
            "Epoch 44/50\n",
            "216/216 [==============================] - 1s 3ms/step - loss: 0.0083\n",
            "Epoch 45/50\n",
            "216/216 [==============================] - 1s 2ms/step - loss: 0.0082\n",
            "Epoch 46/50\n",
            "216/216 [==============================] - 1s 3ms/step - loss: 0.0082\n",
            "Epoch 47/50\n",
            "216/216 [==============================] - 1s 3ms/step - loss: 0.0080\n",
            "Epoch 48/50\n",
            "216/216 [==============================] - 1s 2ms/step - loss: 0.0081\n",
            "Epoch 49/50\n",
            "216/216 [==============================] - 1s 3ms/step - loss: 0.0080\n",
            "Epoch 50/50\n",
            "216/216 [==============================] - 1s 3ms/step - loss: 0.0079\n"
          ]
        }
      ]
    },
    {
      "cell_type": "code",
      "source": [
        "# Visualize loss history\n",
        "plt.figure()\n",
        "plt.plot(history.history['loss'])\n",
        "plt.ylabel('Loss')\n",
        "plt.xlabel('Epoch')\n",
        "plt.show()"
      ],
      "metadata": {
        "colab": {
          "base_uri": "https://localhost:8080/",
          "height": 279
        },
        "id": "ENkaY9rnUQZ1",
        "outputId": "c7f4f9ee-7293-4816-ecfd-c5e022d1285b"
      },
      "execution_count": 56,
      "outputs": [
        {
          "output_type": "display_data",
          "data": {
            "image/png": "[encoded data removed]",
            "text/plain": [
              "<Figure size 432x288 with 1 Axes>"
            ]
          },
          "metadata": {
            "needs_background": "light"
          }
        }
      ]
    },
    {
      "cell_type": "code",
      "source": [
        "# Evaluate model\n",
        "score_train = model.evaluate(X_train_noisy, X_train, batch_size=batch_size)\n",
        "score_test = model.evaluate(X_test_noisy, X_test, batch_size=batch_size)"
      ],
      "metadata": {
        "colab": {
          "base_uri": "https://localhost:8080/"
        },
        "id": "GEpnXgtEUTrQ",
        "outputId": "6fe8b51f-640d-4cbb-fa4a-bf151bbbb8ca"
      },
      "execution_count": 57,
      "outputs": [
        {
          "output_type": "stream",
          "name": "stdout",
          "text": [
            "216/216 [==============================] - 1s 2ms/step - loss: 0.0076\n",
            "54/54 [==============================] - 0s 2ms/step - loss: 0.0723\n"
          ]
        }
      ]
    },
    {
      "cell_type": "code",
      "source": [
        "print('Training MSE: %.8f' %score_train)\n",
        "print('Testing MSE: %.8f' %score_test)"
      ],
      "metadata": {
        "colab": {
          "base_uri": "https://localhost:8080/"
        },
        "id": "wemJ6NwEUVtS",
        "outputId": "81d48362-c5b8-419c-ae37-c2aaa2d73028"
      },
      "execution_count": 58,
      "outputs": [
        {
          "output_type": "stream",
          "name": "stdout",
          "text": [
            "Training MSE: 0.00759874\n",
            "Testing MSE: 0.07232555\n"
          ]
        }
      ]
    },
    {
      "cell_type": "code",
      "source": [
        "# Obtain reconstruction of the stocks\n",
        "X_train_pred = model.predict(X_train_noisy)\n",
        "X_test_pred = model.predict(X_test_noisy)"
      ],
      "metadata": {
        "id": "IplTjJqkUX9I"
      },
      "execution_count": 59,
      "outputs": []
    },
    {
      "cell_type": "code",
      "source": [
        "error = np.mean(np.abs(X_train - X_train_pred)**2, axis=0)\n",
        "print('Training MSE: %.8f' %np.mean(error))\n",
        "\n",
        "error_test = np.mean(np.abs(X_test - X_test_pred)**2, axis=0)\n",
        "print('Testing MSE: %.8f' %np.mean(error_test))"
      ],
      "metadata": {
        "colab": {
          "base_uri": "https://localhost:8080/"
        },
        "id": "q0E4KUwPUZ_W",
        "outputId": "afc70bea-090b-46e4-f7b9-d69c130fdba7"
      },
      "execution_count": 60,
      "outputs": [
        {
          "output_type": "stream",
          "name": "stdout",
          "text": [
            "Training MSE: 0.00759874\n",
            "Testing MSE: 0.07232556\n"
          ]
        }
      ]
    },
    {
      "cell_type": "code",
      "source": [
        "# Sort stocks by reconstruction error\n",
        "ind = np.argsort(error)\n",
        "sort_error = error[ind]\n",
        "sort_assets_names = assets_names[ind]"
      ],
      "metadata": {
        "id": "n36NSH5lUdIM"
      },
      "execution_count": 61,
      "outputs": []
    },
    {
      "cell_type": "code",
      "source": [
        "# Plot\n",
        "i = 0\n",
        "plt.figure()\n",
        "plt.plot(X_train[:, ind[i]], label=assets_names[ind[i]] + ' Stock')\n",
        "plt.plot(X_train_pred[:, ind[i]], label=assets_names[ind[i]] + ' AE')\n",
        "plt.legend()\n",
        "plt.xlabel('Time (days)')\n",
        "plt.ylabel('Normalized price')\n",
        "plt.show()"
      ],
      "metadata": {
        "colab": {
          "base_uri": "https://localhost:8080/",
          "height": 279
        },
        "id": "-ytjkwnqUfEB",
        "outputId": "b720537e-c825-43be-83c8-ec2fe0c92e37"
      },
      "execution_count": 62,
      "outputs": [
        {
          "output_type": "display_data",
          "data": {
            "image/png": "[encoded data removed]",
            "text/plain": [
              "<Figure size 432x288 with 1 Axes>"
            ]
          },
          "metadata": {
            "needs_background": "light"
          }
        }
      ]
    },
    {
      "cell_type": "code",
      "source": [
        "# Barplot\n",
        "plt.figure()\n",
        "plt.barh(2*np.arange(len(error[:20])), error[ind[:20]], tick_label=assets_names[ind[:20]])\n",
        "plt.xlabel('MSE')\n",
        "#plt.xticks(rotation=25)\n",
        "plt.show()"
      ],
      "metadata": {
        "colab": {
          "base_uri": "https://localhost:8080/",
          "height": 279
        },
        "id": "6rPzR2bFUhDT",
        "outputId": "ad0be657-3c12-4509-b076-8f357f1bec7b"
      },
      "execution_count": 63,
      "outputs": [
        {
          "output_type": "display_data",
          "data": {
            "image/png": "[encoded data removed]",
            "text/plain": [
              "<Figure size 432x288 with 1 Axes>"
            ]
          },
          "metadata": {
            "needs_background": "light"
          }
        }
      ]
    },
    {
      "cell_type": "code",
      "source": [
        "# Identify stocks\n",
        "n = 5\n",
        "\n",
        "portfolio_train = X_train_pred[:, ind[:n]]\n",
        "portfolio_test = X_test_pred[:, ind[:n]]\n",
        "\n",
        "# Create portfolio in-sample\n",
        "tracked_index_insample = np.mean(portfolio_train, axis=1)\n",
        "\n",
        "# Create portfolio out-sample\n",
        "tracked_index_outofsample = np.mean(portfolio_test, axis=1)"
      ],
      "metadata": {
        "id": "Z7ykgNm4Ujrr"
      },
      "execution_count": 64,
      "outputs": []
    },
    {
      "cell_type": "code",
      "source": [
        "# In-sample\n",
        "plt.figure()\n",
        "plt.plot(index_train, label='FBMKLCI Index')\n",
        "plt.plot(tracked_index_insample, label='Tracked Index')\n",
        "plt.legend()\n",
        "plt.xlabel('Time (days)')\n",
        "plt.ylabel('Normalized price')\n",
        "plt.show()"
      ],
      "metadata": {
        "colab": {
          "base_uri": "https://localhost:8080/",
          "height": 279
        },
        "id": "5EJSbO9EUv0X",
        "outputId": "f50913bb-3146-4d79-a8dd-cfad96135d05"
      },
      "execution_count": 69,
      "outputs": [
        {
          "output_type": "display_data",
          "data": {
            "image/png": "[encoded data removed]",
            "text/plain": [
              "<Figure size 432x288 with 1 Axes>"
            ]
          },
          "metadata": {
            "needs_background": "light"
          }
        }
      ]
    },
    {
      "cell_type": "code",
      "source": [
        "# Correlation coefficient (in-sample)\n",
        "corr_train = np.corrcoef(index_train.squeeze(), tracked_index_insample)[0, 1]\n",
        "print('Correlation coefficient (in-sample): %.8f' %corr_train)"
      ],
      "metadata": {
        "colab": {
          "base_uri": "https://localhost:8080/"
        },
        "id": "wLCSLZUZUy6j",
        "outputId": "62a9bed0-aae5-4e3f-9217-f6a0b0c35e30"
      },
      "execution_count": 70,
      "outputs": [
        {
          "output_type": "stream",
          "name": "stdout",
          "text": [
            "Correlation coefficient (in-sample): 0.87688779\n"
          ]
        }
      ]
    },
    {
      "cell_type": "code",
      "source": [
        "# Plot tracked index (out-of-sample)\n",
        "plt.figure()\n",
        "plt.plot(index_test, label='FBMKCLI Index')\n",
        "plt.plot(tracked_index_outofsample, label='Tracked Index')\n",
        "plt.legend()\n",
        "plt.xlabel('Time (days)')\n",
        "plt.ylabel('Normalized price')\n",
        "plt.show()"
      ],
      "metadata": {
        "colab": {
          "base_uri": "https://localhost:8080/",
          "height": 279
        },
        "id": "JeSvNTzJU14-",
        "outputId": "9db31b6f-918a-4788-ac01-21bfb4ae1daa"
      },
      "execution_count": 73,
      "outputs": [
        {
          "output_type": "display_data",
          "data": {
            "image/png": "[encoded data removed]",
            "text/plain": [
              "<Figure size 432x288 with 1 Axes>"
            ]
          },
          "metadata": {
            "needs_background": "light"
          }
        }
      ]
    },
    {
      "cell_type": "code",
      "source": [
        "# Correlation coefficient (out-of-sample)\n",
        "corr_test = np.corrcoef(index_test.squeeze(), tracked_index_outofsample)[0, 1]\n",
        "print('Correlation coefficient: %.8f' %corr_test)"
      ],
      "metadata": {
        "colab": {
          "base_uri": "https://localhost:8080/"
        },
        "id": "g4qVm0zFU5yV",
        "outputId": "d5c9ea48-3f11-4e86-9f70-297a158c0334"
      },
      "execution_count": 71,
      "outputs": [
        {
          "output_type": "stream",
          "name": "stdout",
          "text": [
            "Correlation coefficient: 0.87060934\n"
          ]
        }
      ]
    }
  ]
}